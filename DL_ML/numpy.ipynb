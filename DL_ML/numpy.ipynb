{
 "cells": [
  {
   "cell_type": "code",
   "execution_count": 20,
   "id": "8bea8362",
   "metadata": {},
   "outputs": [],
   "source": [
    "import numpy as np"
   ]
  },
  {
   "cell_type": "code",
   "execution_count": 21,
   "id": "067fd2c3",
   "metadata": {},
   "outputs": [],
   "source": [
    "A=np.array([\n",
    "    [1,-1,2],\n",
    "    [3,2,2],\n",
    "    [4,1,2],\n",
    "    [7,5,6]\n",
    "])"
   ]
  },
  {
   "cell_type": "code",
   "execution_count": 22,
   "id": "4a354666",
   "metadata": {},
   "outputs": [
    {
     "data": {
      "text/plain": [
       "array([[ 1, -1,  2],\n",
       "       [ 3,  2,  2],\n",
       "       [ 4,  1,  2],\n",
       "       [ 7,  5,  6]])"
      ]
     },
     "execution_count": 22,
     "metadata": {},
     "output_type": "execute_result"
    }
   ],
   "source": [
    "A"
   ]
  },
  {
   "cell_type": "code",
   "execution_count": 23,
   "id": "2ab27f15",
   "metadata": {},
   "outputs": [],
   "source": [
    "B=np.array([\n",
    "    [0,1],\n",
    "    [-1,3],\n",
    "    [5,2]\n",
    "])"
   ]
  },
  {
   "cell_type": "code",
   "execution_count": 24,
   "id": "e845327d",
   "metadata": {},
   "outputs": [
    {
     "data": {
      "text/plain": [
       "array([[ 0,  1],\n",
       "       [-1,  3],\n",
       "       [ 5,  2]])"
      ]
     },
     "execution_count": 24,
     "metadata": {},
     "output_type": "execute_result"
    }
   ],
   "source": [
    "B"
   ]
  },
  {
   "cell_type": "code",
   "execution_count": 25,
   "id": "6e9ac107",
   "metadata": {},
   "outputs": [],
   "source": [
    "### A랑 B는 우리가 원하는 값을 넣어 만든 행렬이고, 만약 random한 값을 넣어 만들고 싶다면\n",
    "### np.random.rand([행,열])을 사용하면 된다."
   ]
  },
  {
   "cell_type": "code",
   "execution_count": 26,
   "id": "e8a48564",
   "metadata": {},
   "outputs": [],
   "source": [
    "C=np.random.rand(3,5)"
   ]
  },
  {
   "cell_type": "code",
   "execution_count": 27,
   "id": "4d32e0e9",
   "metadata": {},
   "outputs": [
    {
     "data": {
      "text/plain": [
       "array([[0.28079595, 0.81874938, 0.1880968 , 0.7920981 , 0.15004793],\n",
       "       [0.16247885, 0.38982914, 0.63662028, 0.38292224, 0.15493148],\n",
       "       [0.50952947, 0.75170013, 0.31693183, 0.66011984, 0.41223406]])"
      ]
     },
     "execution_count": 27,
     "metadata": {},
     "output_type": "execute_result"
    }
   ],
   "source": [
    "C"
   ]
  },
  {
   "cell_type": "code",
   "execution_count": 28,
   "id": "b41ca5d3",
   "metadata": {},
   "outputs": [],
   "source": [
    "### 만약 모든 값이 0인 행렬을 만들고 싶다면 np.zeros([행,열])을 사용하면 된다."
   ]
  },
  {
   "cell_type": "code",
   "execution_count": 29,
   "id": "3fdcfa8f",
   "metadata": {},
   "outputs": [],
   "source": [
    "D=np.zeros((2,4))"
   ]
  },
  {
   "cell_type": "code",
   "execution_count": 30,
   "id": "7e2b29c9",
   "metadata": {},
   "outputs": [
    {
     "data": {
      "text/plain": [
       "array([[0., 0., 0., 0.],\n",
       "       [0., 0., 0., 0.]])"
      ]
     },
     "execution_count": 30,
     "metadata": {},
     "output_type": "execute_result"
    }
   ],
   "source": [
    "D"
   ]
  },
  {
   "cell_type": "code",
   "execution_count": 31,
   "id": "4c86b23a",
   "metadata": {},
   "outputs": [
    {
     "data": {
      "text/plain": [
       "np.int64(2)"
      ]
     },
     "execution_count": 31,
     "metadata": {},
     "output_type": "execute_result"
    }
   ],
   "source": [
    "#### 만약 A라는 행렬에서 1행 3열의 값을 받아오고 싶다면\n",
    "A[0,2] #### 를 사용하면 된다."
   ]
  },
  {
   "cell_type": "code",
   "execution_count": 32,
   "id": "e1f3aa3f",
   "metadata": {},
   "outputs": [],
   "source": [
    "### 행렬 덧셈과 곱셈"
   ]
  },
  {
   "cell_type": "code",
   "execution_count": 33,
   "id": "1f15b4fe",
   "metadata": {},
   "outputs": [
    {
     "data": {
      "text/plain": [
       "array([[4, 2],\n",
       "       [4, 7]])"
      ]
     },
     "execution_count": 33,
     "metadata": {},
     "output_type": "execute_result"
    }
   ],
   "source": [
    "#### 행렬 덧셈은 간단하게 같은 위치에 있는 값들끼리 더해주면 된다.\n",
    "A=np.array([\n",
    "    [1,1],\n",
    "    [2,3]\n",
    "])\n",
    "\n",
    "B=np.array([\n",
    "    [3,1],\n",
    "    [2,4]\n",
    "])\n",
    "C=A+B\n",
    "C\n",
    "#### 행렬 덧셈은 행과 열의 크기가 같아야지만 가능하다."
   ]
  },
  {
   "cell_type": "code",
   "execution_count": 34,
   "id": "e6fc3742",
   "metadata": {},
   "outputs": [
    {
     "data": {
      "text/plain": [
       "array([[15,  5],\n",
       "       [10, 15]])"
      ]
     },
     "execution_count": 34,
     "metadata": {},
     "output_type": "execute_result"
    }
   ],
   "source": [
    "### 스칼라 곱\n",
    "i=5\n",
    "A=np.array([\n",
    "    [3,1],\n",
    "    [2,3]\n",
    "])\n",
    "A_=i*A\n",
    "A_"
   ]
  },
  {
   "cell_type": "code",
   "execution_count": 40,
   "id": "623ead06",
   "metadata": {},
   "outputs": [],
   "source": [
    "### 두 행렬의 곱셈, 내적곱과 외적곱\n",
    "### 내적곱"
   ]
  },
  {
   "cell_type": "code",
   "execution_count": 44,
   "id": "23774ff0",
   "metadata": {},
   "outputs": [
    {
     "data": {
      "text/plain": [
       "array([[20, 13],\n",
       "       [21, 17]])"
      ]
     },
     "execution_count": 44,
     "metadata": {},
     "output_type": "execute_result"
    }
   ],
   "source": [
    "A=np.array([\n",
    "    [1,3,1],\n",
    "    [2,2,1]\n",
    "])\n",
    "B=np.array([\n",
    "    [5,6],\n",
    "    [4,2],\n",
    "    [3,1]\n",
    "])\n",
    "\n",
    "#### A는 2 x 3 행렬이고, B는 3 x 2 행렬이다.\n",
    "C=np.dot(A,B) #### 행렬의 곱셈은 np.dot()을 사용한다.\n",
    "#### np.dot(A,B) == A@B\n",
    "C #### C는 2 x 2 행렬이 된다.\n",
    "\n",
    "#### 행렬의 곱셈에서는 행렬 A곱하기 행렬 B와 행렬 B곱하기 행렬 A는 다르다."
   ]
  },
  {
   "cell_type": "code",
   "execution_count": 45,
   "id": "daf8f1da",
   "metadata": {},
   "outputs": [
    {
     "data": {
      "text/plain": [
       "array([[ 0,  2,  6],\n",
       "       [ 8,  0,  6],\n",
       "       [ 7, 16,  0]])"
      ]
     },
     "execution_count": 45,
     "metadata": {},
     "output_type": "execute_result"
    }
   ],
   "source": [
    "### 요소별 곱하기\n",
    "A=np.array([\n",
    "    [1,2,3],\n",
    "    [4,5,6],\n",
    "    [7,8,9]\n",
    "])\n",
    "B=np.array([\n",
    "    [0,1,2],\n",
    "    [2,0,1],\n",
    "    [1,2,0]\n",
    "])\n",
    "C=A*B #### 행렬의 곱셈은 그냥 *를 사용한다.\n",
    "C #### C는 3 x 3 행렬이 된다."
   ]
  },
  {
   "cell_type": "code",
   "execution_count": 46,
   "id": "d4436d85",
   "metadata": {},
   "outputs": [],
   "source": [
    "### 특수 행렬 - 전치행렬, 단위행렬, 역행렬"
   ]
  },
  {
   "cell_type": "code",
   "execution_count": 48,
   "id": "d7d60ec8",
   "metadata": {},
   "outputs": [
    {
     "data": {
      "text/plain": [
       "array([[1, 4],\n",
       "       [2, 5],\n",
       "       [3, 6]])"
      ]
     },
     "execution_count": 48,
     "metadata": {},
     "output_type": "execute_result"
    }
   ],
   "source": [
    "### 전치행렬 (transposed matrix)\n",
    "A=np.array([\n",
    "    [1,2,3],\n",
    "    [4,5,6]\n",
    "])\n",
    "A.T\n",
    "# 첫번째 행이었던게 첫번째 열이 되고, 두번째 행이었던게 두번째 열이 된다."
   ]
  },
  {
   "cell_type": "code",
   "execution_count": 58,
   "id": "0d51e6e8",
   "metadata": {},
   "outputs": [
    {
     "data": {
      "text/plain": [
       "array([[1., 0., 0.],\n",
       "       [0., 1., 0.],\n",
       "       [0., 0., 1.]])"
      ]
     },
     "execution_count": 58,
     "metadata": {},
     "output_type": "execute_result"
    }
   ],
   "source": [
    "### 단위행렬 (identity matrix)\n",
    "I=np.eye(3)\n",
    "I\n",
    "I=np.identity(3)\n",
    "I\n",
    "### 단위행렬은 정사각 행렬이어야지만 가능하다.\n",
    "### 단위행렬은 어떤 행렬 A에 곱해도 A가 나온다."
   ]
  },
  {
   "cell_type": "code",
   "execution_count": 57,
   "id": "8b79b5e7",
   "metadata": {},
   "outputs": [
    {
     "data": {
      "text/plain": [
       "array([[1., 0.],\n",
       "       [0., 1.]])"
      ]
     },
     "execution_count": 57,
     "metadata": {},
     "output_type": "execute_result"
    }
   ],
   "source": [
    "### 역행렬 (inverse matrix)\n",
    "#### 곱했을 때 단위행렬이 나오는 행렬을 역행렬이라고 한다.\n",
    "A=np.array([\n",
    "    [3,4],\n",
    "    [1,2]\n",
    "])\n",
    "A_I=np.array([\n",
    "    [1,-2],\n",
    "    [-0.5,1.5]\n",
    "])\n",
    "B=A@A_I\n",
    "B\n",
    "#### 역행렬은 -1을 위에 써서(지수로 써서) 표현한다.\n",
    "#### 또 모든 행렬에 역행렬이 반드시 존재하지는 않는다."
   ]
  },
  {
   "cell_type": "code",
   "execution_count": 59,
   "id": "e449d714",
   "metadata": {},
   "outputs": [
    {
     "data": {
      "text/plain": [
       "array([[ 1. , -2. ],\n",
       "       [-0.5,  1.5]])"
      ]
     },
     "execution_count": 59,
     "metadata": {},
     "output_type": "execute_result"
    }
   ],
   "source": [
    "#### 역행렬을 구하는 함수는 np.linalg.pinv()를 사용한다.\n",
    "A=np.array([\n",
    "    [3,4],\n",
    "    [1,2]\n",
    "])\n",
    "A_inv=np.linalg.pinv(A)\n",
    "A_inv"
   ]
  },
  {
   "cell_type": "code",
   "execution_count": 61,
   "id": "6b93fd16",
   "metadata": {},
   "outputs": [
    {
     "data": {
      "text/plain": [
       "array([[ 1.00000000e+00,  5.55111512e-16, -8.88178420e-16],\n",
       "       [ 0.00000000e+00,  1.00000000e+00, -8.88178420e-16],\n",
       "       [ 0.00000000e+00,  3.33066907e-16,  1.00000000e+00]])"
      ]
     },
     "execution_count": 61,
     "metadata": {},
     "output_type": "execute_result"
    }
   ],
   "source": [
    "#### 역행렬이 없는 경우에도 np.linalg.pinv()를 사용하면 유사역행렬이 구해진다.\n",
    "A=np.array([\n",
    "    [1,-1,2],\n",
    "    [3,2,2],\n",
    "    [4,1,2]\n",
    "])\n",
    "A_inv=np.linalg.pinv(A)\n",
    "A@A_inv\n",
    "#### 대각선에 있는 값들은 1이 나오지만 나머지 값들은 0이 나오지 않는다. 그러나 유사하게 나온다"
   ]
  }
 ],
 "metadata": {
  "kernelspec": {
   "display_name": "MSHCK",
   "language": "python",
   "name": "python3"
  },
  "language_info": {
   "codemirror_mode": {
    "name": "ipython",
    "version": 3
   },
   "file_extension": ".py",
   "mimetype": "text/x-python",
   "name": "python",
   "nbconvert_exporter": "python",
   "pygments_lexer": "ipython3",
   "version": "3.12.11"
  }
 },
 "nbformat": 4,
 "nbformat_minor": 5
}
