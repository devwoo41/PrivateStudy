{
 "cells": [
  {
   "cell_type": "code",
   "execution_count": 1,
   "id": "eb4bc458",
   "metadata": {},
   "outputs": [],
   "source": [
    "from sklearn.datasets import load_boston\n",
    "\n",
    "boston_dataset=load_boston()"
   ]
  },
  {
   "cell_type": "code",
   "execution_count": 3,
   "id": "0b0930c4",
   "metadata": {},
   "outputs": [
    {
     "data": {
      "text/plain": [
       "array([[  6.32000000e-03,   1.80000000e+01,   2.31000000e+00, ...,\n",
       "          1.53000000e+01,   3.96900000e+02,   4.98000000e+00],\n",
       "       [  2.73100000e-02,   0.00000000e+00,   7.07000000e+00, ...,\n",
       "          1.78000000e+01,   3.96900000e+02,   9.14000000e+00],\n",
       "       [  2.72900000e-02,   0.00000000e+00,   7.07000000e+00, ...,\n",
       "          1.78000000e+01,   3.92830000e+02,   4.03000000e+00],\n",
       "       ..., \n",
       "       [  6.07600000e-02,   0.00000000e+00,   1.19300000e+01, ...,\n",
       "          2.10000000e+01,   3.96900000e+02,   5.64000000e+00],\n",
       "       [  1.09590000e-01,   0.00000000e+00,   1.19300000e+01, ...,\n",
       "          2.10000000e+01,   3.93450000e+02,   6.48000000e+00],\n",
       "       [  4.74100000e-02,   0.00000000e+00,   1.19300000e+01, ...,\n",
       "          2.10000000e+01,   3.96900000e+02,   7.88000000e+00]])"
      ]
     },
     "execution_count": 3,
     "metadata": {},
     "output_type": "execute_result"
    }
   ],
   "source": [
    "boston_dataset.data"
   ]
  },
  {
   "cell_type": "code",
   "execution_count": 5,
   "id": "7994cdd4",
   "metadata": {},
   "outputs": [
    {
     "data": {
      "text/plain": [
       "(506, 13)"
      ]
     },
     "execution_count": 5,
     "metadata": {},
     "output_type": "execute_result"
    }
   ],
   "source": [
    "boston_dataset.data.shape"
   ]
  },
  {
   "cell_type": "code",
   "execution_count": 6,
   "id": "bdaac61c",
   "metadata": {},
   "outputs": [
    {
     "data": {
      "text/plain": [
       "array(['CRIM', 'ZN', 'INDUS', 'CHAS', 'NOX', 'RM', 'AGE', 'DIS', 'RAD',\n",
       "       'TAX', 'PTRATIO', 'B', 'LSTAT'],\n",
       "      dtype='<U7')"
      ]
     },
     "execution_count": 6,
     "metadata": {},
     "output_type": "execute_result"
    }
   ],
   "source": [
    "boston_dataset.feature_names"
   ]
  },
  {
   "cell_type": "code",
   "execution_count": 16,
   "id": "082c4ba9",
   "metadata": {},
   "outputs": [
    {
     "data": {
      "text/plain": [
       "(506, 105)"
      ]
     },
     "execution_count": 16,
     "metadata": {},
     "output_type": "execute_result"
    }
   ],
   "source": [
    "from sklearn.preprocessing import PolynomialFeatures # 이름 그대로 다항 속성을 만들어주는 툴\n",
    "polynomial_transformer = PolynomialFeatures(2) # 2차 다항식으로 변환\n",
    "polynomial_data=polynomial_transformer.fit_transform(boston_dataset.data)\n",
    "polynomial_data.shape # 105개로 늘어난 이유는 (13+1)*((13+2)/2)=105 이기 때문"
   ]
  },
  {
   "cell_type": "code",
   "execution_count": 9,
   "id": "a2579f77",
   "metadata": {},
   "outputs": [
    {
     "data": {
      "text/plain": [
       "['1',\n",
       " 'CRIM',\n",
       " 'ZN',\n",
       " 'INDUS',\n",
       " 'CHAS',\n",
       " 'NOX',\n",
       " 'RM',\n",
       " 'AGE',\n",
       " 'DIS',\n",
       " 'RAD',\n",
       " 'TAX',\n",
       " 'PTRATIO',\n",
       " 'B',\n",
       " 'LSTAT',\n",
       " 'CRIM^2',\n",
       " 'CRIM ZN',\n",
       " 'CRIM INDUS',\n",
       " 'CRIM CHAS',\n",
       " 'CRIM NOX',\n",
       " 'CRIM RM',\n",
       " 'CRIM AGE',\n",
       " 'CRIM DIS',\n",
       " 'CRIM RAD',\n",
       " 'CRIM TAX',\n",
       " 'CRIM PTRATIO',\n",
       " 'CRIM B',\n",
       " 'CRIM LSTAT',\n",
       " 'ZN^2',\n",
       " 'ZN INDUS',\n",
       " 'ZN CHAS',\n",
       " 'ZN NOX',\n",
       " 'ZN RM',\n",
       " 'ZN AGE',\n",
       " 'ZN DIS',\n",
       " 'ZN RAD',\n",
       " 'ZN TAX',\n",
       " 'ZN PTRATIO',\n",
       " 'ZN B',\n",
       " 'ZN LSTAT',\n",
       " 'INDUS^2',\n",
       " 'INDUS CHAS',\n",
       " 'INDUS NOX',\n",
       " 'INDUS RM',\n",
       " 'INDUS AGE',\n",
       " 'INDUS DIS',\n",
       " 'INDUS RAD',\n",
       " 'INDUS TAX',\n",
       " 'INDUS PTRATIO',\n",
       " 'INDUS B',\n",
       " 'INDUS LSTAT',\n",
       " 'CHAS^2',\n",
       " 'CHAS NOX',\n",
       " 'CHAS RM',\n",
       " 'CHAS AGE',\n",
       " 'CHAS DIS',\n",
       " 'CHAS RAD',\n",
       " 'CHAS TAX',\n",
       " 'CHAS PTRATIO',\n",
       " 'CHAS B',\n",
       " 'CHAS LSTAT',\n",
       " 'NOX^2',\n",
       " 'NOX RM',\n",
       " 'NOX AGE',\n",
       " 'NOX DIS',\n",
       " 'NOX RAD',\n",
       " 'NOX TAX',\n",
       " 'NOX PTRATIO',\n",
       " 'NOX B',\n",
       " 'NOX LSTAT',\n",
       " 'RM^2',\n",
       " 'RM AGE',\n",
       " 'RM DIS',\n",
       " 'RM RAD',\n",
       " 'RM TAX',\n",
       " 'RM PTRATIO',\n",
       " 'RM B',\n",
       " 'RM LSTAT',\n",
       " 'AGE^2',\n",
       " 'AGE DIS',\n",
       " 'AGE RAD',\n",
       " 'AGE TAX',\n",
       " 'AGE PTRATIO',\n",
       " 'AGE B',\n",
       " 'AGE LSTAT',\n",
       " 'DIS^2',\n",
       " 'DIS RAD',\n",
       " 'DIS TAX',\n",
       " 'DIS PTRATIO',\n",
       " 'DIS B',\n",
       " 'DIS LSTAT',\n",
       " 'RAD^2',\n",
       " 'RAD TAX',\n",
       " 'RAD PTRATIO',\n",
       " 'RAD B',\n",
       " 'RAD LSTAT',\n",
       " 'TAX^2',\n",
       " 'TAX PTRATIO',\n",
       " 'TAX B',\n",
       " 'TAX LSTAT',\n",
       " 'PTRATIO^2',\n",
       " 'PTRATIO B',\n",
       " 'PTRATIO LSTAT',\n",
       " 'B^2',\n",
       " 'B LSTAT',\n",
       " 'LSTAT^2']"
      ]
     },
     "execution_count": 9,
     "metadata": {},
     "output_type": "execute_result"
    }
   ],
   "source": [
    "polynomial_feature_names=polynomial_transformer.get_feature_names(boston_dataset.feature_names)\n",
    "polynomial_feature_names"
   ]
  },
  {
   "cell_type": "code",
   "execution_count": 15,
   "id": "a68ba021",
   "metadata": {},
   "outputs": [],
   "source": [
    "import pandas as pd\n",
    "X=pd.DataFrame(polynomial_data, columns=polynomial_feature_names)"
   ]
  },
  {
   "cell_type": "code",
   "execution_count": 21,
   "id": "9fc14e70",
   "metadata": {},
   "outputs": [],
   "source": [
    "from sklearn.model_selection import train_test_split\n",
    "from sklearn.linear_model import LinearRegression\n",
    "from sklearn.metrics import mean_squared_error\n",
    "\n",
    "y=pd.DataFrame(boston_dataset.target, columns=['MEDIV'])"
   ]
  },
  {
   "cell_type": "code",
   "execution_count": 22,
   "id": "15cc10e5",
   "metadata": {},
   "outputs": [],
   "source": [
    "X_train, X_test, y_train, y_test= train_test_split(X,y,test_size=0.2, random_state=5)"
   ]
  },
  {
   "cell_type": "code",
   "execution_count": 23,
   "id": "0b887e20",
   "metadata": {},
   "outputs": [
    {
     "data": {
      "text/plain": [
       "LinearRegression(copy_X=True, fit_intercept=True, n_jobs=None,\n",
       "         normalize=False)"
      ]
     },
     "execution_count": 23,
     "metadata": {},
     "output_type": "execute_result"
    }
   ],
   "source": [
    "model=LinearRegression()\n",
    "model.fit(X_train,y_train)"
   ]
  },
  {
   "cell_type": "code",
   "execution_count": 24,
   "id": "078b2ef4",
   "metadata": {},
   "outputs": [
    {
     "data": {
      "text/plain": [
       "array([[  2.55996369e-07,  -5.09146959e+00,  -1.65753983e-01,\n",
       "         -5.97358604e+00,   2.43179262e+01,   1.65180559e+02,\n",
       "          2.19910116e+01,   1.03167123e+00,  -5.66895775e+00,\n",
       "          3.22443249e+00,  -1.10055942e-02,   5.35127787e+00,\n",
       "         -4.81524408e-02,   7.53109325e-01,   2.16774682e-03,\n",
       "          2.69938772e-01,   5.87901385e-01,   2.41731932e+00,\n",
       "         -2.52413194e-02,   8.92859572e-02,  -5.18832420e-03,\n",
       "         -5.77807152e-02,   3.55602049e-01,  -3.86092281e-02,\n",
       "          5.43572101e-01,  -3.18134358e-04,   2.40035425e-02,\n",
       "         -7.48850220e-04,  -7.16133310e-03,  -1.06886010e-01,\n",
       "         -1.27782609e+00,   2.50137719e-02,   1.14111417e-04,\n",
       "         -1.25254119e-02,  -4.68024813e-03,   6.05725185e-04,\n",
       "         -8.57873132e-03,   1.85030053e-03,  -4.64730601e-03,\n",
       "          3.08484808e-02,  -2.09065897e-01,   1.30035723e+00,\n",
       "          3.13497405e-01,   6.72540164e-04,   7.51823883e-02,\n",
       "         -7.38014889e-03,   4.23364348e-04,  -6.72155118e-03,\n",
       "          6.42107774e-03,  -5.32275093e-03,   2.43179258e+01,\n",
       "         -1.84845896e+01,  -6.89090796e+00,   3.60375828e-02,\n",
       "          3.05451225e+00,  -4.09746374e-01,   2.34143012e-02,\n",
       "         -8.47140007e-01,   2.67079534e-02,  -4.67786369e-01,\n",
       "         -4.67850812e+01,   3.64543351e+00,  -6.00214489e-01,\n",
       "          1.59316284e+01,  -9.85012970e-01,   1.34091848e-01,\n",
       "         -1.19204901e+01,  -3.52741122e-02,   1.49910251e+00,\n",
       "          1.61796865e-01,  -5.59710757e-02,  -2.01415693e-02,\n",
       "         -1.48173641e-01,  -1.44084743e-02,  -5.43970810e-01,\n",
       "         -2.51829107e-03,  -2.23180151e-01,   1.04437605e-04,\n",
       "         -1.11866477e-02,   1.76080422e-02,  -5.61733227e-04,\n",
       "          7.89859008e-04,  -7.29621881e-04,  -6.91541692e-03,\n",
       "          5.10744891e-01,  -9.97148047e-02,  -5.10129116e-03,\n",
       "         -1.89041938e-01,  -7.59517251e-03,   1.03720290e-01,\n",
       "         -1.40678180e-01,   7.67704651e-03,  -1.15933963e-01,\n",
       "         -9.65920564e-04,  -4.55543664e-02,  -5.15985543e-05,\n",
       "          6.37266840e-03,  -1.20248657e-04,  -1.90119503e-04,\n",
       "         -1.35160919e-02,   9.14979704e-03,  -2.02259708e-04,\n",
       "         -1.93102593e-05,  -7.46677274e-04,   9.84814764e-03]])"
      ]
     },
     "execution_count": 24,
     "metadata": {},
     "output_type": "execute_result"
    }
   ],
   "source": [
    "model.coef_"
   ]
  },
  {
   "cell_type": "code",
   "execution_count": 25,
   "id": "231dd426",
   "metadata": {},
   "outputs": [
    {
     "data": {
      "text/plain": [
       "array([-141.8985563])"
      ]
     },
     "execution_count": 25,
     "metadata": {},
     "output_type": "execute_result"
    }
   ],
   "source": [
    "model.intercept_"
   ]
  },
  {
   "cell_type": "code",
   "execution_count": 26,
   "id": "91436389",
   "metadata": {},
   "outputs": [],
   "source": [
    "y_test_prediction=model.predict(X_test)"
   ]
  },
  {
   "cell_type": "code",
   "execution_count": 27,
   "id": "3225347b",
   "metadata": {},
   "outputs": [
    {
     "data": {
      "text/plain": [
       "3.1965276514166292"
      ]
     },
     "execution_count": 27,
     "metadata": {},
     "output_type": "execute_result"
    }
   ],
   "source": [
    "mean_squared_error(y_test, y_test_prediction) ** 0.5"
   ]
  }
 ],
 "metadata": {
  "kernelspec": {
   "display_name": "codeit",
   "language": "python",
   "name": "python3"
  },
  "language_info": {
   "codemirror_mode": {
    "name": "ipython",
    "version": 3
   },
   "file_extension": ".py",
   "mimetype": "text/x-python",
   "name": "python",
   "nbconvert_exporter": "python",
   "pygments_lexer": "ipython3",
   "version": "3.6.13"
  }
 },
 "nbformat": 4,
 "nbformat_minor": 5
}
