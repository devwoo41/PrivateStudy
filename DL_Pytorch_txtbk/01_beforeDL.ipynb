{
 "cells": [
  {
   "cell_type": "markdown",
   "id": "bb7237b0",
   "metadata": {},
   "source": [
    "#### 몇가지 Function"
   ]
  },
  {
   "cell_type": "code",
   "execution_count": null,
   "id": "2e96ef8d",
   "metadata": {},
   "outputs": [],
   "source": []
  }
 ],
 "metadata": {
  "language_info": {
   "name": "python"
  }
 },
 "nbformat": 4,
 "nbformat_minor": 5
}
